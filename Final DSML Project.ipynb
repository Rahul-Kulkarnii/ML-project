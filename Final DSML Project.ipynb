{
 "cells": [
  {
   "cell_type": "markdown",
   "id": "83d925b3",
   "metadata": {},
   "source": [
    "# Used Car Price Prediction Model"
   ]
  },
  {
   "cell_type": "markdown",
   "id": "2ff4cff7",
   "metadata": {},
   "source": [
    "## Phase 2 - Data Science and Machine Learning"
   ]
  },
  {
   "cell_type": "markdown",
   "id": "d2da8741",
   "metadata": {},
   "source": [
    "### Name: Rahul Kulkarni\n",
    "### Roll No: 21150"
   ]
  },
  {
   "cell_type": "markdown",
   "id": "94e3e025",
   "metadata": {},
   "source": [
    "# Importing Libraries"
   ]
  },
  {
   "cell_type": "code",
   "execution_count": 904,
   "id": "eee41f45",
   "metadata": {},
   "outputs": [],
   "source": [
    "import pandas as pd\n",
    "import numpy as np\n",
    "import matplotlib.pyplot as plt\n",
    "import seaborn as sns"
   ]
  },
  {
   "cell_type": "markdown",
   "id": "73876bf3",
   "metadata": {},
   "source": [
    "# Data Preparation"
   ]
  },
  {
   "cell_type": "code",
   "execution_count": 905,
   "id": "848d5e38",
   "metadata": {},
   "outputs": [
    {
     "data": {
      "text/html": [
       "<div>\n",
       "<style scoped>\n",
       "    .dataframe tbody tr th:only-of-type {\n",
       "        vertical-align: middle;\n",
       "    }\n",
       "\n",
       "    .dataframe tbody tr th {\n",
       "        vertical-align: top;\n",
       "    }\n",
       "\n",
       "    .dataframe thead th {\n",
       "        text-align: right;\n",
       "    }\n",
       "</style>\n",
       "<table border=\"1\" class=\"dataframe\">\n",
       "  <thead>\n",
       "    <tr style=\"text-align: right;\">\n",
       "      <th></th>\n",
       "      <th>Brand</th>\n",
       "      <th>Location</th>\n",
       "      <th>Year</th>\n",
       "      <th>Kilometers_Driven</th>\n",
       "      <th>Fuel_Type</th>\n",
       "      <th>Transmission</th>\n",
       "      <th>Owner_Type</th>\n",
       "      <th>Mileage</th>\n",
       "      <th>Engine</th>\n",
       "      <th>Power</th>\n",
       "      <th>Seats</th>\n",
       "    </tr>\n",
       "  </thead>\n",
       "  <tbody>\n",
       "    <tr>\n",
       "      <th>0</th>\n",
       "      <td>Maruti</td>\n",
       "      <td>Delhi</td>\n",
       "      <td>2014</td>\n",
       "      <td>35214</td>\n",
       "      <td>Petrol</td>\n",
       "      <td>Automatic</td>\n",
       "      <td>Second</td>\n",
       "      <td>23.1 kmpl</td>\n",
       "      <td>998 CC</td>\n",
       "      <td>67.04 bhp</td>\n",
       "      <td>5.0</td>\n",
       "    </tr>\n",
       "    <tr>\n",
       "      <th>1</th>\n",
       "      <td>Audi</td>\n",
       "      <td>Delhi</td>\n",
       "      <td>2013</td>\n",
       "      <td>71000</td>\n",
       "      <td>Diesel</td>\n",
       "      <td>Automatic</td>\n",
       "      <td>First</td>\n",
       "      <td>14.16 kmpl</td>\n",
       "      <td>1968 CC</td>\n",
       "      <td>174.3 bhp</td>\n",
       "      <td>5.0</td>\n",
       "    </tr>\n",
       "    <tr>\n",
       "      <th>2</th>\n",
       "      <td>Toyota</td>\n",
       "      <td>Pune</td>\n",
       "      <td>2012</td>\n",
       "      <td>111000</td>\n",
       "      <td>Diesel</td>\n",
       "      <td>Manual</td>\n",
       "      <td>First</td>\n",
       "      <td>23.59 kmpl</td>\n",
       "      <td>1364 CC</td>\n",
       "      <td>67.1 bhp</td>\n",
       "      <td>5.0</td>\n",
       "    </tr>\n",
       "    <tr>\n",
       "      <th>3</th>\n",
       "      <td>Maruti</td>\n",
       "      <td>Pune</td>\n",
       "      <td>2012</td>\n",
       "      <td>90400</td>\n",
       "      <td>CNG</td>\n",
       "      <td>Manual</td>\n",
       "      <td>First</td>\n",
       "      <td>26.2 km/kg</td>\n",
       "      <td>998 CC</td>\n",
       "      <td>58.2 bhp</td>\n",
       "      <td>5.0</td>\n",
       "    </tr>\n",
       "    <tr>\n",
       "      <th>4</th>\n",
       "      <td>Maruti</td>\n",
       "      <td>Jaipur</td>\n",
       "      <td>2016</td>\n",
       "      <td>68630</td>\n",
       "      <td>Petrol</td>\n",
       "      <td>Automatic</td>\n",
       "      <td>First</td>\n",
       "      <td>20.51 kmpl</td>\n",
       "      <td>998 CC</td>\n",
       "      <td>67 bhp</td>\n",
       "      <td>5.0</td>\n",
       "    </tr>\n",
       "  </tbody>\n",
       "</table>\n",
       "</div>"
      ],
      "text/plain": [
       "    Brand Location  Year  Kilometers_Driven Fuel_Type Transmission Owner_Type  \\\n",
       "0  Maruti    Delhi  2014              35214    Petrol    Automatic     Second   \n",
       "1    Audi    Delhi  2013              71000    Diesel    Automatic      First   \n",
       "2  Toyota     Pune  2012             111000    Diesel       Manual      First   \n",
       "3  Maruti     Pune  2012              90400       CNG       Manual      First   \n",
       "4  Maruti   Jaipur  2016              68630    Petrol    Automatic      First   \n",
       "\n",
       "      Mileage   Engine      Power  Seats  \n",
       "0   23.1 kmpl   998 CC  67.04 bhp    5.0  \n",
       "1  14.16 kmpl  1968 CC  174.3 bhp    5.0  \n",
       "2  23.59 kmpl  1364 CC   67.1 bhp    5.0  \n",
       "3  26.2 km/kg   998 CC   58.2 bhp    5.0  \n",
       "4  20.51 kmpl   998 CC     67 bhp    5.0  "
      ]
     },
     "execution_count": 905,
     "metadata": {},
     "output_type": "execute_result"
    }
   ],
   "source": [
    "crude_data = pd.read_csv(\"training_data.csv\")\n",
    "\n",
    "# Function to extract the brand name from the 'Brand' column\n",
    "def extract_brand_name(s):\n",
    "    return s.split()[0] if isinstance(s, str) else s\n",
    "\n",
    "# Apply the function to create a new column 'Brand_Name'\n",
    "crude_data['Brand_Name'] = crude_data['Brand'].apply(extract_brand_name)\n",
    "\n",
    "# Replace the 'Brand' column with the 'Brand_Name' column\n",
    "crude_data['Brand'] = crude_data['Brand_Name']\n",
    "\n",
    "# Drop the 'Brand_Name' column\n",
    "crude_data = crude_data.drop('Brand_Name', axis=1)\n",
    "crude_data.head()\n",
    "\n",
    "# Save the modified data to a new CSV file or overwrite the existing one\n",
    "crude_data.to_csv(\"modified_data.csv\", index=False)\n",
    "\n",
    "\n",
    "df1 = pd.read_csv(\"modified_data.csv\")\n",
    "df1.head()"
   ]
  },
  {
   "cell_type": "code",
   "execution_count": 906,
   "id": "a5ca1155",
   "metadata": {},
   "outputs": [
    {
     "data": {
      "text/html": [
       "<div>\n",
       "<style scoped>\n",
       "    .dataframe tbody tr th:only-of-type {\n",
       "        vertical-align: middle;\n",
       "    }\n",
       "\n",
       "    .dataframe tbody tr th {\n",
       "        vertical-align: top;\n",
       "    }\n",
       "\n",
       "    .dataframe thead th {\n",
       "        text-align: right;\n",
       "    }\n",
       "</style>\n",
       "<table border=\"1\" class=\"dataframe\">\n",
       "  <thead>\n",
       "    <tr style=\"text-align: right;\">\n",
       "      <th></th>\n",
       "      <th>Price</th>\n",
       "    </tr>\n",
       "  </thead>\n",
       "  <tbody>\n",
       "    <tr>\n",
       "      <th>0</th>\n",
       "      <td>3.20</td>\n",
       "    </tr>\n",
       "    <tr>\n",
       "      <th>1</th>\n",
       "      <td>21.50</td>\n",
       "    </tr>\n",
       "    <tr>\n",
       "      <th>2</th>\n",
       "      <td>4.75</td>\n",
       "    </tr>\n",
       "    <tr>\n",
       "      <th>3</th>\n",
       "      <td>2.90</td>\n",
       "    </tr>\n",
       "    <tr>\n",
       "      <th>4</th>\n",
       "      <td>3.87</td>\n",
       "    </tr>\n",
       "  </tbody>\n",
       "</table>\n",
       "</div>"
      ],
      "text/plain": [
       "   Price\n",
       "0   3.20\n",
       "1  21.50\n",
       "2   4.75\n",
       "3   2.90\n",
       "4   3.87"
      ]
     },
     "execution_count": 906,
     "metadata": {},
     "output_type": "execute_result"
    }
   ],
   "source": [
    "df2= pd.read_csv(\"training_data_targets.csv\",header=None, names=[\"Price\"])\n",
    "df2.head()"
   ]
  },
  {
   "cell_type": "code",
   "execution_count": 907,
   "id": "3d6e95cd",
   "metadata": {},
   "outputs": [
    {
     "data": {
      "text/plain": [
       "(5417, 11)"
      ]
     },
     "execution_count": 907,
     "metadata": {},
     "output_type": "execute_result"
    }
   ],
   "source": [
    "df1.shape"
   ]
  },
  {
   "cell_type": "code",
   "execution_count": 908,
   "id": "b3c486de",
   "metadata": {},
   "outputs": [
    {
     "data": {
      "text/plain": [
       "(5417, 1)"
      ]
     },
     "execution_count": 908,
     "metadata": {},
     "output_type": "execute_result"
    }
   ],
   "source": [
    "df2.shape"
   ]
  },
  {
   "cell_type": "code",
   "execution_count": 909,
   "id": "428ae1cd",
   "metadata": {},
   "outputs": [
    {
     "data": {
      "text/plain": [
       "(5417, 12)"
      ]
     },
     "execution_count": 909,
     "metadata": {},
     "output_type": "execute_result"
    }
   ],
   "source": [
    "df_main=pd.concat([df1, df2], axis=1)\n",
    "df_main.head()\n",
    "df_main.shape"
   ]
  },
  {
   "cell_type": "markdown",
   "id": "f2a02385",
   "metadata": {},
   "source": [
    "### Distribution of Cars with Price"
   ]
  },
  {
   "cell_type": "code",
   "execution_count": 910,
   "id": "68a0bb08",
   "metadata": {},
   "outputs": [
    {
     "data": {
      "image/png": "[encoded data removed]",
      "text/plain": [
       "<Figure size 720x432 with 1 Axes>"
      ]
     },
     "metadata": {
      "needs_background": "light"
     },
     "output_type": "display_data"
    }
   ],
   "source": [
    "plt.figure(figsize=(10, 6))\n",
    "sns.histplot(df_main[\"Price\"], bins=25, kde=True)\n",
    "plt.title(\"Distribution of Car Prices\")\n",
    "plt.xlabel(\"Price (in lakhs)\")\n",
    "plt.ylabel(\"Frequency\")\n",
    "plt.show()\n"
   ]
  },
  {
   "cell_type": "markdown",
   "id": "a2a58534",
   "metadata": {},
   "source": [
    "### Missing value Check"
   ]
  },
  {
   "cell_type": "code",
   "execution_count": 911,
   "id": "0943e1a6",
   "metadata": {},
   "outputs": [
    {
     "data": {
      "text/plain": [
       "Brand                 0\n",
       "Location              0\n",
       "Year                  0\n",
       "Kilometers_Driven     0\n",
       "Fuel_Type             0\n",
       "Transmission          0\n",
       "Owner_Type            0\n",
       "Mileage               1\n",
       "Engine               34\n",
       "Power                34\n",
       "Seats                38\n",
       "Price                 0\n",
       "dtype: int64"
      ]
     },
     "execution_count": 911,
     "metadata": {},
     "output_type": "execute_result"
    }
   ],
   "source": [
    "df_main.isnull().sum()"
   ]
  },
  {
   "cell_type": "markdown",
   "id": "3cc06d96",
   "metadata": {},
   "source": [
    "#### Dropping all missing value rows using dropna to see if any effect on Performance"
   ]
  },
  {
   "cell_type": "code",
   "execution_count": 912,
   "id": "43720ae5",
   "metadata": {},
   "outputs": [],
   "source": [
    "#df_main.isnull().sum()\n",
    "#df_main=df_main.dropna()"
   ]
  },
  {
   "cell_type": "markdown",
   "id": "abdc9d25",
   "metadata": {},
   "source": [
    "### Check missing values again (in %)"
   ]
  },
  {
   "cell_type": "code",
   "execution_count": 913,
   "id": "f1830349",
   "metadata": {},
   "outputs": [
    {
     "data": {
      "text/plain": [
       "Brand                0.000000\n",
       "Location             0.000000\n",
       "Year                 0.000000\n",
       "Kilometers_Driven    0.000000\n",
       "Fuel_Type            0.000000\n",
       "Transmission         0.000000\n",
       "Owner_Type           0.000000\n",
       "Mileage              0.018460\n",
       "Engine               0.627654\n",
       "Power                0.627654\n",
       "Seats                0.701495\n",
       "Price                0.000000\n",
       "dtype: float64"
      ]
     },
     "execution_count": 913,
     "metadata": {},
     "output_type": "execute_result"
    }
   ],
   "source": [
    "100*(df_main.isnull().sum()/len(df_main))"
   ]
  },
  {
   "cell_type": "markdown",
   "id": "35df035c",
   "metadata": {},
   "source": [
    "#### Dropping Categorical columns (to see if there are any changes in R2 score)"
   ]
  },
  {
   "cell_type": "code",
   "execution_count": 914,
   "id": "526de8a3",
   "metadata": {},
   "outputs": [
    {
     "name": "stdout",
     "output_type": "stream",
     "text": [
      "['Petrol' 'Diesel' 'CNG' 'LPG' 'Electric']\n",
      "['Automatic' 'Manual']\n",
      "['Second' 'First' 'Third' 'Fourth & Above']\n",
      "[ 5.  8.  7.  4. nan  6.  2. 10.  9.  0.]\n"
     ]
    }
   ],
   "source": [
    "print(df_main['Fuel_Type'].unique())\n",
    "print(df_main['Transmission'].unique())\n",
    "print(df_main['Owner_Type'].unique())\n",
    "print(df_main['Seats'].unique())"
   ]
  },
  {
   "cell_type": "code",
   "execution_count": 915,
   "id": "2f18602b",
   "metadata": {},
   "outputs": [
    {
     "name": "stdout",
     "output_type": "stream",
     "text": [
      "Dropping These Columns lead to decrease in R2 Score\n"
     ]
    }
   ],
   "source": [
    "#df_main=df_main.drop(columns=['Brand','Location', 'Engine','Seats'], axis=1)\n",
    "print(\"Dropping These Columns lead to decrease in R2 Score\")"
   ]
  },
  {
   "cell_type": "markdown",
   "id": "050a5fb6",
   "metadata": {},
   "source": [
    "## String Data to Numeric - Extraction"
   ]
  },
  {
   "cell_type": "code",
   "execution_count": 916,
   "id": "ee4ae774",
   "metadata": {},
   "outputs": [],
   "source": [
    "def extract_numerical_from_string(s):\n",
    "    try:\n",
    "        return float(s.split()[0])\n",
    "    except:\n",
    "        return None\n",
    "\n",
    "# Clean the 'Mileage', 'Engine', and 'Power' columns\n",
    "df_main['Mileage'] = df_main['Mileage'].apply(extract_numerical_from_string)\n",
    "df_main['Power'] = df_main['Power'].apply(extract_numerical_from_string)\n",
    "df_main['Engine'] = df_main['Engine'].apply(extract_numerical_from_string)"
   ]
  },
  {
   "cell_type": "code",
   "execution_count": 917,
   "id": "a1e3285b",
   "metadata": {},
   "outputs": [],
   "source": [
    "#q = car_2['Engine'].quantile(0.99)\n",
    "#car_3 = car_2[car_2['Engine']<q]\n",
    "#sns.displot(car_3['Engine'], kde = True, bins = 20)\n",
    "#plt.title('')"
   ]
  },
  {
   "cell_type": "code",
   "execution_count": null,
   "id": "098e0043",
   "metadata": {},
   "outputs": [],
   "source": []
  },
  {
   "cell_type": "markdown",
   "id": "abbf5230",
   "metadata": {},
   "source": [
    "## Cleaned Data Set"
   ]
  },
  {
   "cell_type": "code",
   "execution_count": 918,
   "id": "cf4ca4b3",
   "metadata": {
    "scrolled": false
   },
   "outputs": [
    {
     "data": {
      "text/html": [
       "<div>\n",
       "<style scoped>\n",
       "    .dataframe tbody tr th:only-of-type {\n",
       "        vertical-align: middle;\n",
       "    }\n",
       "\n",
       "    .dataframe tbody tr th {\n",
       "        vertical-align: top;\n",
       "    }\n",
       "\n",
       "    .dataframe thead th {\n",
       "        text-align: right;\n",
       "    }\n",
       "</style>\n",
       "<table border=\"1\" class=\"dataframe\">\n",
       "  <thead>\n",
       "    <tr style=\"text-align: right;\">\n",
       "      <th></th>\n",
       "      <th>Brand</th>\n",
       "      <th>Location</th>\n",
       "      <th>Year</th>\n",
       "      <th>Kilometers_Driven</th>\n",
       "      <th>Fuel_Type</th>\n",
       "      <th>Transmission</th>\n",
       "      <th>Owner_Type</th>\n",
       "      <th>Mileage</th>\n",
       "      <th>Engine</th>\n",
       "      <th>Power</th>\n",
       "      <th>Seats</th>\n",
       "      <th>Price</th>\n",
       "    </tr>\n",
       "  </thead>\n",
       "  <tbody>\n",
       "    <tr>\n",
       "      <th>0</th>\n",
       "      <td>Maruti</td>\n",
       "      <td>Delhi</td>\n",
       "      <td>2014</td>\n",
       "      <td>35214</td>\n",
       "      <td>Petrol</td>\n",
       "      <td>Automatic</td>\n",
       "      <td>Second</td>\n",
       "      <td>23.10</td>\n",
       "      <td>998.0</td>\n",
       "      <td>67.04</td>\n",
       "      <td>5.0</td>\n",
       "      <td>3.20</td>\n",
       "    </tr>\n",
       "    <tr>\n",
       "      <th>1</th>\n",
       "      <td>Audi</td>\n",
       "      <td>Delhi</td>\n",
       "      <td>2013</td>\n",
       "      <td>71000</td>\n",
       "      <td>Diesel</td>\n",
       "      <td>Automatic</td>\n",
       "      <td>First</td>\n",
       "      <td>14.16</td>\n",
       "      <td>1968.0</td>\n",
       "      <td>174.30</td>\n",
       "      <td>5.0</td>\n",
       "      <td>21.50</td>\n",
       "    </tr>\n",
       "    <tr>\n",
       "      <th>2</th>\n",
       "      <td>Toyota</td>\n",
       "      <td>Pune</td>\n",
       "      <td>2012</td>\n",
       "      <td>111000</td>\n",
       "      <td>Diesel</td>\n",
       "      <td>Manual</td>\n",
       "      <td>First</td>\n",
       "      <td>23.59</td>\n",
       "      <td>1364.0</td>\n",
       "      <td>67.10</td>\n",
       "      <td>5.0</td>\n",
       "      <td>4.75</td>\n",
       "    </tr>\n",
       "    <tr>\n",
       "      <th>3</th>\n",
       "      <td>Maruti</td>\n",
       "      <td>Pune</td>\n",
       "      <td>2012</td>\n",
       "      <td>90400</td>\n",
       "      <td>CNG</td>\n",
       "      <td>Manual</td>\n",
       "      <td>First</td>\n",
       "      <td>26.20</td>\n",
       "      <td>998.0</td>\n",
       "      <td>58.20</td>\n",
       "      <td>5.0</td>\n",
       "      <td>2.90</td>\n",
       "    </tr>\n",
       "    <tr>\n",
       "      <th>4</th>\n",
       "      <td>Maruti</td>\n",
       "      <td>Jaipur</td>\n",
       "      <td>2016</td>\n",
       "      <td>68630</td>\n",
       "      <td>Petrol</td>\n",
       "      <td>Automatic</td>\n",
       "      <td>First</td>\n",
       "      <td>20.51</td>\n",
       "      <td>998.0</td>\n",
       "      <td>67.00</td>\n",
       "      <td>5.0</td>\n",
       "      <td>3.87</td>\n",
       "    </tr>\n",
       "  </tbody>\n",
       "</table>\n",
       "</div>"
      ],
      "text/plain": [
       "    Brand Location  Year  Kilometers_Driven Fuel_Type Transmission Owner_Type  \\\n",
       "0  Maruti    Delhi  2014              35214    Petrol    Automatic     Second   \n",
       "1    Audi    Delhi  2013              71000    Diesel    Automatic      First   \n",
       "2  Toyota     Pune  2012             111000    Diesel       Manual      First   \n",
       "3  Maruti     Pune  2012              90400       CNG       Manual      First   \n",
       "4  Maruti   Jaipur  2016              68630    Petrol    Automatic      First   \n",
       "\n",
       "   Mileage  Engine   Power  Seats  Price  \n",
       "0    23.10   998.0   67.04    5.0   3.20  \n",
       "1    14.16  1968.0  174.30    5.0  21.50  \n",
       "2    23.59  1364.0   67.10    5.0   4.75  \n",
       "3    26.20   998.0   58.20    5.0   2.90  \n",
       "4    20.51   998.0   67.00    5.0   3.87  "
      ]
     },
     "execution_count": 918,
     "metadata": {},
     "output_type": "execute_result"
    }
   ],
   "source": [
    "df_main.head()"
   ]
  },
  {
   "cell_type": "markdown",
   "id": "f7b5b44b",
   "metadata": {},
   "source": [
    "# Removing Outliers"
   ]
  },
  {
   "cell_type": "code",
   "execution_count": 919,
   "id": "78d6511e",
   "metadata": {},
   "outputs": [
    {
     "data": {
      "text/plain": [
       "<seaborn.axisgrid.FacetGrid at 0x7fa90903b700>"
      ]
     },
     "execution_count": 919,
     "metadata": {},
     "output_type": "execute_result"
    },
    {
     "data": {
      "image/png": "[encoded data removed]",
      "text/plain": [
       "<Figure size 360x360 with 1 Axes>"
      ]
     },
     "metadata": {
      "needs_background": "light"
     },
     "output_type": "display_data"
    }
   ],
   "source": [
    "sns.displot(df_main['Engine'], kde = True, bins = 20, color = 'red')"
   ]
  },
  {
   "cell_type": "code",
   "execution_count": 920,
   "id": "5da83654",
   "metadata": {},
   "outputs": [
    {
     "data": {
      "text/plain": [
       "Text(0.5, 1.0, '')"
      ]
     },
     "execution_count": 920,
     "metadata": {},
     "output_type": "execute_result"
    },
    {
     "data": {
      "image/png": "[encoded data removed]",
      "text/plain": [
       "<Figure size 360x360 with 1 Axes>"
      ]
     },
     "metadata": {
      "needs_background": "light"
     },
     "output_type": "display_data"
    }
   ],
   "source": [
    "qu = df_main['Engine'].quantile(0.995)\n",
    "df_main = df_main[df_main['Engine']<qu]\n",
    "\n",
    "sns.displot(df_main['Engine'], kde = True, bins = 20, color = 'red')\n",
    "plt.title('')\n",
    "\n",
    "\n"
   ]
  },
  {
   "cell_type": "code",
   "execution_count": 921,
   "id": "963abd69",
   "metadata": {},
   "outputs": [],
   "source": [
    "ql = df_main['Engine'].quantile(0.0001)\n",
    "df_main = df_main[df_main['Engine']>ql]"
   ]
  },
  {
   "cell_type": "code",
   "execution_count": 922,
   "id": "ad76f2ee",
   "metadata": {
    "scrolled": false
   },
   "outputs": [
    {
     "data": {
      "text/plain": [
       "<seaborn.axisgrid.FacetGrid at 0x7fa947502910>"
      ]
     },
     "execution_count": 922,
     "metadata": {},
     "output_type": "execute_result"
    },
    {
     "data": {
      "image/png": "[encoded data removed]",
      "text/plain": [
       "<Figure size 360x360 with 1 Axes>"
      ]
     },
     "metadata": {
      "needs_background": "light"
     },
     "output_type": "display_data"
    }
   ],
   "source": [
    "sns.displot(df_main['Engine'], kde = True, bins = 20, color = 'red')"
   ]
  },
  {
   "cell_type": "code",
   "execution_count": 923,
   "id": "d7cc0850",
   "metadata": {},
   "outputs": [
    {
     "data": {
      "text/plain": [
       "<seaborn.axisgrid.FacetGrid at 0x7fa957e21640>"
      ]
     },
     "execution_count": 923,
     "metadata": {},
     "output_type": "execute_result"
    },
    {
     "data": {
      "image/png": "[encoded data removed]",
      "text/plain": [
       "<Figure size 360x360 with 1 Axes>"
      ]
     },
     "metadata": {
      "needs_background": "light"
     },
     "output_type": "display_data"
    }
   ],
   "source": [
    "sns.displot(df_main['Kilometers_Driven'], kde = True, bins = 200, color = 'blue')"
   ]
  },
  {
   "cell_type": "code",
   "execution_count": 924,
   "id": "0667d670",
   "metadata": {},
   "outputs": [
    {
     "data": {
      "text/plain": [
       "Text(0.5, 1.0, '')"
      ]
     },
     "execution_count": 924,
     "metadata": {},
     "output_type": "execute_result"
    },
    {
     "data": {
      "image/png": "[encoded data removed]",
      "text/plain": [
       "<Figure size 360x360 with 1 Axes>"
      ]
     },
     "metadata": {
      "needs_background": "light"
     },
     "output_type": "display_data"
    }
   ],
   "source": [
    "qu = df_main['Kilometers_Driven'].quantile(0.995)\n",
    "df_main = df_main[df_main['Kilometers_Driven']<qu]\n",
    "\n",
    "sns.displot(df_main['Kilometers_Driven'], kde = True, bins = 20, color = 'blue')\n",
    "plt.title('')\n"
   ]
  },
  {
   "cell_type": "code",
   "execution_count": 925,
   "id": "713b8d37",
   "metadata": {},
   "outputs": [
    {
     "data": {
      "text/plain": [
       "<seaborn.axisgrid.FacetGrid at 0x7fa92790dfd0>"
      ]
     },
     "execution_count": 925,
     "metadata": {},
     "output_type": "execute_result"
    },
    {
     "data": {
      "image/png": "[encoded data removed]",
      "text/plain": [
       "<Figure size 360x360 with 1 Axes>"
      ]
     },
     "metadata": {
      "needs_background": "light"
     },
     "output_type": "display_data"
    }
   ],
   "source": [
    "sns.displot(df_main['Mileage'], kde = True, bins = 200, color = 'yellow')"
   ]
  },
  {
   "cell_type": "code",
   "execution_count": 926,
   "id": "47526408",
   "metadata": {},
   "outputs": [
    {
     "data": {
      "text/plain": [
       "<seaborn.axisgrid.FacetGrid at 0x7fa93d849fd0>"
      ]
     },
     "execution_count": 926,
     "metadata": {},
     "output_type": "execute_result"
    },
    {
     "data": {
      "image/png": "[encoded data removed]",
      "text/plain": [
       "<Figure size 360x360 with 1 Axes>"
      ]
     },
     "metadata": {
      "needs_background": "light"
     },
     "output_type": "display_data"
    }
   ],
   "source": [
    "qu = df_main['Mileage'].quantile(0.999)\n",
    "df_main = df_main[df_main['Mileage']< qu]\n",
    "\n",
    "sns.displot(df_main['Mileage'], kde = True, bins = 20, color = 'yellow')"
   ]
  },
  {
   "cell_type": "code",
   "execution_count": 927,
   "id": "15200854",
   "metadata": {},
   "outputs": [
    {
     "data": {
      "text/plain": [
       "<seaborn.axisgrid.FacetGrid at 0x7fa8d172e310>"
      ]
     },
     "execution_count": 927,
     "metadata": {},
     "output_type": "execute_result"
    },
    {
     "data": {
      "image/png": "[encoded data removed]",
      "text/plain": [
       "<Figure size 360x360 with 1 Axes>"
      ]
     },
     "metadata": {
      "needs_background": "light"
     },
     "output_type": "display_data"
    }
   ],
   "source": [
    "ql = df_main['Mileage'].quantile(0.001)\n",
    "df_main = df_main[df_main['Mileage'] > ql]\n",
    "\n",
    "sns.displot(df_main['Mileage'], kde = True, bins = 20, color = 'yellow')"
   ]
  },
  {
   "cell_type": "markdown",
   "id": "0915c9c4",
   "metadata": {},
   "source": [
    "## Colinearity check"
   ]
  },
  {
   "cell_type": "code",
   "execution_count": 928,
   "id": "7c2186c9",
   "metadata": {
    "scrolled": false
   },
   "outputs": [
    {
     "data": {
      "image/png": "[encoded data removed]",
      "text/plain": [
       "<Figure size 720x576 with 2 Axes>"
      ]
     },
     "metadata": {
      "needs_background": "light"
     },
     "output_type": "display_data"
    }
   ],
   "source": [
    "df_main.corr()\n",
    "\n",
    "# Visualizing the correlation matrix\n",
    "correlation_matrix = df_main.corr()\n",
    "plt.figure(figsize=(10, 8))\n",
    "sns.heatmap(correlation_matrix, annot=True, cmap=\"jet\", fmt=\".2f\")\n",
    "plt.title(\"Correlation Matrix of Features\")\n",
    "plt.show()"
   ]
  },
  {
   "cell_type": "markdown",
   "id": "4e32e0c5",
   "metadata": {},
   "source": [
    "# Importing Model Libraries"
   ]
  },
  {
   "cell_type": "code",
   "execution_count": 929,
   "id": "565e2081",
   "metadata": {},
   "outputs": [],
   "source": [
    "from sklearn.ensemble import ExtraTreesRegressor\n",
    "from sklearn.preprocessing import LabelEncoder\n",
    "from sklearn.impute import SimpleImputer\n",
    "from sklearn.model_selection import train_test_split\n",
    "from sklearn.ensemble import RandomForestRegressor\n",
    "from sklearn.metrics import r2_score, mean_squared_error\n",
    "from sklearn.preprocessing import StandardScaler, OneHotEncoder\n",
    "from sklearn.compose import ColumnTransformer\n",
    "from sklearn.pipeline import Pipeline\n",
    "from sklearn.model_selection import cross_val_score\n",
    "from sklearn.linear_model import LinearRegression\n",
    "from sklearn.ensemble import AdaBoostRegressor\n",
    "from sklearn.ensemble import GradientBoostingRegressor\n",
    "from sklearn.neighbors import KNeighborsRegressor\n",
    "from sklearn.model_selection import GridSearchCV\n"
   ]
  },
  {
   "cell_type": "code",
   "execution_count": 930,
   "id": "fc36ffba",
   "metadata": {},
   "outputs": [
    {
     "data": {
      "text/html": [
       "<div>\n",
       "<style scoped>\n",
       "    .dataframe tbody tr th:only-of-type {\n",
       "        vertical-align: middle;\n",
       "    }\n",
       "\n",
       "    .dataframe tbody tr th {\n",
       "        vertical-align: top;\n",
       "    }\n",
       "\n",
       "    .dataframe thead th {\n",
       "        text-align: right;\n",
       "    }\n",
       "</style>\n",
       "<table border=\"1\" class=\"dataframe\">\n",
       "  <thead>\n",
       "    <tr style=\"text-align: right;\">\n",
       "      <th></th>\n",
       "      <th>Brand</th>\n",
       "      <th>Location</th>\n",
       "      <th>Year</th>\n",
       "      <th>Kilometers_Driven</th>\n",
       "      <th>Fuel_Type</th>\n",
       "      <th>Transmission</th>\n",
       "      <th>Owner_Type</th>\n",
       "      <th>Mileage</th>\n",
       "      <th>Engine</th>\n",
       "      <th>Power</th>\n",
       "      <th>Seats</th>\n",
       "    </tr>\n",
       "  </thead>\n",
       "  <tbody>\n",
       "    <tr>\n",
       "      <th>0</th>\n",
       "      <td>Maruti</td>\n",
       "      <td>Delhi</td>\n",
       "      <td>2014</td>\n",
       "      <td>35214</td>\n",
       "      <td>Petrol</td>\n",
       "      <td>Automatic</td>\n",
       "      <td>Second</td>\n",
       "      <td>23.10</td>\n",
       "      <td>998.0</td>\n",
       "      <td>67.04</td>\n",
       "      <td>5.0</td>\n",
       "    </tr>\n",
       "    <tr>\n",
       "      <th>1</th>\n",
       "      <td>Audi</td>\n",
       "      <td>Delhi</td>\n",
       "      <td>2013</td>\n",
       "      <td>71000</td>\n",
       "      <td>Diesel</td>\n",
       "      <td>Automatic</td>\n",
       "      <td>First</td>\n",
       "      <td>14.16</td>\n",
       "      <td>1968.0</td>\n",
       "      <td>174.30</td>\n",
       "      <td>5.0</td>\n",
       "    </tr>\n",
       "    <tr>\n",
       "      <th>2</th>\n",
       "      <td>Toyota</td>\n",
       "      <td>Pune</td>\n",
       "      <td>2012</td>\n",
       "      <td>111000</td>\n",
       "      <td>Diesel</td>\n",
       "      <td>Manual</td>\n",
       "      <td>First</td>\n",
       "      <td>23.59</td>\n",
       "      <td>1364.0</td>\n",
       "      <td>67.10</td>\n",
       "      <td>5.0</td>\n",
       "    </tr>\n",
       "    <tr>\n",
       "      <th>3</th>\n",
       "      <td>Maruti</td>\n",
       "      <td>Pune</td>\n",
       "      <td>2012</td>\n",
       "      <td>90400</td>\n",
       "      <td>CNG</td>\n",
       "      <td>Manual</td>\n",
       "      <td>First</td>\n",
       "      <td>26.20</td>\n",
       "      <td>998.0</td>\n",
       "      <td>58.20</td>\n",
       "      <td>5.0</td>\n",
       "    </tr>\n",
       "    <tr>\n",
       "      <th>4</th>\n",
       "      <td>Maruti</td>\n",
       "      <td>Jaipur</td>\n",
       "      <td>2016</td>\n",
       "      <td>68630</td>\n",
       "      <td>Petrol</td>\n",
       "      <td>Automatic</td>\n",
       "      <td>First</td>\n",
       "      <td>20.51</td>\n",
       "      <td>998.0</td>\n",
       "      <td>67.00</td>\n",
       "      <td>5.0</td>\n",
       "    </tr>\n",
       "  </tbody>\n",
       "</table>\n",
       "</div>"
      ],
      "text/plain": [
       "    Brand Location  Year  Kilometers_Driven Fuel_Type Transmission Owner_Type  \\\n",
       "0  Maruti    Delhi  2014              35214    Petrol    Automatic     Second   \n",
       "1    Audi    Delhi  2013              71000    Diesel    Automatic      First   \n",
       "2  Toyota     Pune  2012             111000    Diesel       Manual      First   \n",
       "3  Maruti     Pune  2012              90400       CNG       Manual      First   \n",
       "4  Maruti   Jaipur  2016              68630    Petrol    Automatic      First   \n",
       "\n",
       "   Mileage  Engine   Power  Seats  \n",
       "0    23.10   998.0   67.04    5.0  \n",
       "1    14.16  1968.0  174.30    5.0  \n",
       "2    23.59  1364.0   67.10    5.0  \n",
       "3    26.20   998.0   58.20    5.0  \n",
       "4    20.51   998.0   67.00    5.0  "
      ]
     },
     "execution_count": 930,
     "metadata": {},
     "output_type": "execute_result"
    }
   ],
   "source": [
    "X=df_main.drop(['Price'],axis=1)\n",
    "X.head()"
   ]
  },
  {
   "cell_type": "code",
   "execution_count": 931,
   "id": "0edf57ec",
   "metadata": {},
   "outputs": [
    {
     "data": {
      "text/plain": [
       "0     3.20\n",
       "1    21.50\n",
       "2     4.75\n",
       "3     2.90\n",
       "4     3.87\n",
       "Name: Price, dtype: float64"
      ]
     },
     "execution_count": 931,
     "metadata": {},
     "output_type": "execute_result"
    }
   ],
   "source": [
    "y=df_main['Price']\n",
    "y.head()"
   ]
  },
  {
   "cell_type": "markdown",
   "id": "465ed98b",
   "metadata": {},
   "source": [
    "### Label Encoding categorical variables"
   ]
  },
  {
   "cell_type": "code",
   "execution_count": 932,
   "id": "d7e8fe6f",
   "metadata": {},
   "outputs": [],
   "source": [
    "#label_encoder = LabelEncoder()\n",
    "#for column in ['Brand','Location','Fuel_Type', 'Transmission', 'Owner_Type']:\n",
    "#    X[column] = label_encoder.fit_transform(X[column])"
   ]
  },
  {
   "cell_type": "code",
   "execution_count": null,
   "id": "2421d6fa",
   "metadata": {},
   "outputs": [],
   "source": []
  },
  {
   "cell_type": "markdown",
   "id": "b2237953",
   "metadata": {},
   "source": [
    "###  Handle missing values using SimpleImputer"
   ]
  },
  {
   "cell_type": "code",
   "execution_count": 933,
   "id": "b4afa51b",
   "metadata": {},
   "outputs": [],
   "source": [
    "#imputer = SimpleImputer(strategy='mean')\n",
    "#X = imputer.fit_transform(X)"
   ]
  },
  {
   "cell_type": "markdown",
   "id": "ee976c43",
   "metadata": {},
   "source": [
    "## Spliting Dataset"
   ]
  },
  {
   "cell_type": "code",
   "execution_count": 934,
   "id": "8b02555c",
   "metadata": {},
   "outputs": [],
   "source": [
    "X_train, X_test, y_train, y_test = train_test_split(X, y, test_size = 0.2, random_state = 42)\n"
   ]
  },
  {
   "cell_type": "code",
   "execution_count": 935,
   "id": "73c5ca9e",
   "metadata": {},
   "outputs": [
    {
     "data": {
      "text/plain": [
       "((4222, 11), (1056, 11))"
      ]
     },
     "execution_count": 935,
     "metadata": {},
     "output_type": "execute_result"
    }
   ],
   "source": [
    "X_train.shape, X_test.shape"
   ]
  },
  {
   "cell_type": "markdown",
   "id": "dcdc1a52",
   "metadata": {},
   "source": [
    "## Defining numerical and categorical features"
   ]
  },
  {
   "cell_type": "code",
   "execution_count": 936,
   "id": "c66a0ce0",
   "metadata": {},
   "outputs": [],
   "source": [
    "numeric_features = [ 'Kilometers_Driven', 'Mileage', 'Engine', 'Power']\n",
    "categorical_features = ['Year','Brand', 'Location', 'Fuel_Type', 'Transmission', 'Owner_Type', 'Seats']"
   ]
  },
  {
   "cell_type": "markdown",
   "id": "d0bb9c34",
   "metadata": {},
   "source": [
    "## OneHot Encoding, Imputation and Scaling"
   ]
  },
  {
   "cell_type": "code",
   "execution_count": 977,
   "id": "9cbd0ca7",
   "metadata": {},
   "outputs": [],
   "source": [
    "numeric_transformer = Pipeline(steps=[\n",
    "    ('imputer', SimpleImputer(strategy='mean')),\n",
    "    ('scaler', StandardScaler())\n",
    "])\n",
    "\n",
    "categorical_transformer = Pipeline(steps=[\n",
    "    ('imputer', SimpleImputer(strategy='most_frequent')),\n",
    "    ('encoder', OneHotEncoder(handle_unknown='ignore'))\n",
    "])"
   ]
  },
  {
   "cell_type": "markdown",
   "id": "2682acd5",
   "metadata": {},
   "source": [
    "\n",
    "#  Random Forest Regressor Model"
   ]
  },
  {
   "cell_type": "code",
   "execution_count": 978,
   "id": "6ec79efe",
   "metadata": {},
   "outputs": [],
   "source": [
    "# Preprocessor to apply transformations based on feature types\n",
    "preprocessor = ColumnTransformer(\n",
    "    transformers=[\n",
    "        ('num', numeric_transformer, numeric_features),\n",
    "        ('cat', categorical_transformer, categorical_features)\n",
    "    ])\n",
    "\n",
    "# Pipeline with the preprocessor and the Random Forest Regressor\n",
    "pipeline = Pipeline(steps=[\n",
    "    ('preprocessor', preprocessor),\n",
    "    ('regressor', RandomForestRegressor(n_estimators=100, random_state=42))\n",
    "])"
   ]
  },
  {
   "cell_type": "code",
   "execution_count": 979,
   "id": "4155d77b",
   "metadata": {},
   "outputs": [
    {
     "data": {
      "text/plain": [
       "\"\\n        elif self.rgr_opt=='rf':\\n            print('\\n\\t ### Random Forest ### \\n')\\n            rgr = RandomForestRegressor(max_features=None)\\n            rgr_parameters = {\\n            'rgr__criterion':('squared_error','friedman_mse','poisson'),       \\n            'rgr__n_estimators':(30,50,100),\\n            'rgr__max_depth':(10,20,30),\\n            'rgr__max_features':('auto', 'sqrt', 'log2'),\\n            }          \\n            \\n            \\n\""
      ]
     },
     "execution_count": 979,
     "metadata": {},
     "output_type": "execute_result"
    }
   ],
   "source": [
    "'''\n",
    "        elif self.rgr_opt=='rf':\n",
    "            print('\\n\\t ### Random Forest ### \\n')\n",
    "            rgr = RandomForestRegressor(max_features=None)\n",
    "            rgr_parameters = {\n",
    "            'rgr__criterion':('squared_error','friedman_mse','poisson'),       \n",
    "            'rgr__n_estimators':(30,50,100),\n",
    "            'rgr__max_depth':(10,20,30),\n",
    "            'rgr__max_features':('auto', 'sqrt', 'log2'),\n",
    "            }          \n",
    "            \n",
    "            \n",
    "'''"
   ]
  },
  {
   "cell_type": "code",
   "execution_count": null,
   "id": "707b9cde",
   "metadata": {},
   "outputs": [],
   "source": []
  },
  {
   "cell_type": "markdown",
   "id": "2a6e91ef",
   "metadata": {
    "scrolled": false
   },
   "source": [
    "### Cross Validation and Model Fitting - Random Forest"
   ]
  },
  {
   "cell_type": "code",
   "execution_count": 980,
   "id": "08ca480a",
   "metadata": {},
   "outputs": [
    {
     "name": "stdout",
     "output_type": "stream",
     "text": [
      "Cross-validation R2 scores: [0.85854349 0.85297515 0.86021005 0.89572437 0.82247615]\n",
      "Mean CV R2 Score: 0.8579858409588912\n"
     ]
    }
   ],
   "source": [
    "# Cross-validation\n",
    "cv_scores = cross_val_score(pipeline, X, y, cv=5, scoring='r2')\n",
    "print(f\"Cross-validation R2 scores: {cv_scores}\")\n",
    "print(f\"Mean CV R2 Score: {cv_scores.mean()}\")\n",
    "\n",
    "# Fitting the model\n",
    "pipeline.fit(X_train, y_train)\n",
    "\n",
    "# Making predictions on the test set\n",
    "y_pred = pipeline.predict(X_test)"
   ]
  },
  {
   "cell_type": "markdown",
   "id": "c09d459c",
   "metadata": {},
   "source": [
    "### Performance - R2 Score - Random Forest"
   ]
  },
  {
   "cell_type": "code",
   "execution_count": 981,
   "id": "2a4be542",
   "metadata": {
    "scrolled": true
   },
   "outputs": [
    {
     "name": "stdout",
     "output_type": "stream",
     "text": [
      "Validation R2 Score: 0.8755849611974516\n"
     ]
    }
   ],
   "source": [
    "r2 = r2_score(y_test, y_pred)\n",
    "print(f\"Validation R2 Score: {r2}\")"
   ]
  },
  {
   "cell_type": "markdown",
   "id": "58b8c3ef",
   "metadata": {},
   "source": [
    "### Hyper Parameter Tuning - Random Forest"
   ]
  },
  {
   "cell_type": "code",
   "execution_count": 982,
   "id": "bf0aaf69",
   "metadata": {
    "scrolled": true
   },
   "outputs": [
    {
     "name": "stdout",
     "output_type": "stream",
     "text": [
      "Best Parameters for RandomForest: {'regressor__max_depth': None, 'regressor__min_samples_leaf': 1, 'regressor__min_samples_split': 2, 'regressor__n_estimators': 200}\n",
      "Best R2 Score for RandomForest: 0.842685063878568\n",
      "Validation R2 Score for the Best RandomForest Regressor: 0.8765400858506838\n"
     ]
    }
   ],
   "source": [
    "\n",
    "param_grid_rf = {\n",
    "    'regressor__n_estimators': [50, 100, 200],\n",
    "    'regressor__max_depth': [None, 10, 20],\n",
    "    'regressor__min_samples_split': [2, 5, 10],\n",
    "    'regressor__min_samples_leaf': [1, 2, 4]\n",
    "}\n",
    "\n",
    "grid_search_rf = GridSearchCV(pipeline, param_grid_rf, cv=5, scoring='r2', n_jobs=-1)\n",
    "\n",
    "# Fit the model on the training data with hyperparameter tuning\n",
    "grid_search_rf.fit(X_train, y_train)\n",
    "\n",
    "# best parameters \n",
    "print(\"Best Parameters for RandomForest:\", grid_search_rf.best_params_)\n",
    "print(\"Best R2 Score for RandomForest:\", grid_search_rf.best_score_)\n",
    "\n",
    "#RandomForest best model\n",
    "best_rf_model = grid_search_rf.best_estimator_\n",
    "\n",
    "# Evaluation\n",
    "y_pred_best_rf = best_rf_model.predict(X_test)\n",
    "r2_best_rf = r2_score(y_test, y_pred_best_rf)\n",
    "print(f\"Validation R2 Score for the Best RandomForest Regressor: {r2_best_rf}\")\n"
   ]
  },
  {
   "cell_type": "markdown",
   "id": "cc27ddae",
   "metadata": {},
   "source": [
    "### Predicted Values vs Actual Values Plot - Random Forest\n"
   ]
  },
  {
   "cell_type": "code",
   "execution_count": 983,
   "id": "c7e6a6a9",
   "metadata": {
    "scrolled": false
   },
   "outputs": [
    {
     "data": {
      "image/png": "[encoded data removed]",
      "text/plain": [
       "<Figure size 720x432 with 1 Axes>"
      ]
     },
     "metadata": {
      "needs_background": "light"
     },
     "output_type": "display_data"
    }
   ],
   "source": [
    "plt.figure(figsize=(10, 6))\n",
    "plt.scatter(y_test, y_pred_best_rf)\n",
    "plt.plot([min(y_test), max(y_test)], [min(y_test), max(y_test)], '--', color='black')\n",
    "plt.title(\"Actual vs Predicted Prices - Random Forest Regressor\")\n",
    "plt.xlabel(\"Actual Prices (in lakhs)\")\n",
    "plt.ylabel(\"Predicted Prices (in lakhs)\")\n",
    "plt.show()"
   ]
  },
  {
   "cell_type": "markdown",
   "id": "ec01fecc",
   "metadata": {},
   "source": [
    "# Linear Regression Model"
   ]
  },
  {
   "cell_type": "code",
   "execution_count": 984,
   "id": "a0c1661c",
   "metadata": {},
   "outputs": [],
   "source": [
    "linear_pipeline = Pipeline(steps=[\n",
    "    ('preprocessor', preprocessor),\n",
    "    ('regressor', LinearRegression())\n",
    "])"
   ]
  },
  {
   "cell_type": "markdown",
   "id": "fc210310",
   "metadata": {},
   "source": [
    "### Cross Validation - Linear regression"
   ]
  },
  {
   "cell_type": "code",
   "execution_count": 985,
   "id": "230dae25",
   "metadata": {},
   "outputs": [
    {
     "name": "stdout",
     "output_type": "stream",
     "text": [
      "Cross-validation R2 scores for Linear Regression: [0.79042739 0.79764295 0.79734673 0.8064318  0.73694317]\n",
      "Mean CV R2 Score for Linear Regression: 0.7857584069120506\n"
     ]
    }
   ],
   "source": [
    "linear_cv_scores = cross_val_score(linear_pipeline, X, y, cv=5, scoring='r2')\n",
    "print(f\"Cross-validation R2 scores for Linear Regression: {linear_cv_scores}\")\n",
    "print(f\"Mean CV R2 Score for Linear Regression: {linear_cv_scores.mean()}\")"
   ]
  },
  {
   "cell_type": "markdown",
   "id": "8c955359",
   "metadata": {},
   "source": [
    "### Fitting and Performance - Linear regression"
   ]
  },
  {
   "cell_type": "code",
   "execution_count": 986,
   "id": "598f5753",
   "metadata": {},
   "outputs": [
    {
     "name": "stdout",
     "output_type": "stream",
     "text": [
      "Validation R2 Score for Linear Regression: 0.7984548892576279\n"
     ]
    }
   ],
   "source": [
    "# Fitting the Linear Regression model\n",
    "linear_pipeline.fit(X_train, y_train)\n",
    "\n",
    "# Making predictions on the test set using Linear Regression\n",
    "linear_y_pred = linear_pipeline.predict(X_test)\n",
    "linear_r2 = r2_score(y_test, linear_y_pred)\n",
    "print(f\"Validation R2 Score for Linear Regression: {linear_r2}\")"
   ]
  },
  {
   "cell_type": "markdown",
   "id": "e71ab7e9",
   "metadata": {},
   "source": [
    "### Predicted Values vs Actual Values Plot - Linear Regression"
   ]
  },
  {
   "cell_type": "code",
   "execution_count": 987,
   "id": "4c03c2ad",
   "metadata": {},
   "outputs": [
    {
     "data": {
      "image/png": "[encoded data removed]",
      "text/plain": [
       "<Figure size 720x432 with 1 Axes>"
      ]
     },
     "metadata": {
      "needs_background": "light"
     },
     "output_type": "display_data"
    }
   ],
   "source": [
    "plt.figure(figsize=(10, 6))\n",
    "plt.scatter(y_test, linear_y_pred)\n",
    "plt.plot([min(y_test), max(y_test)], [min(y_test), max(y_test)], '--', color='black')\n",
    "plt.title(\"Actual vs Predicted Prices - Linear Regressor\")\n",
    "plt.xlabel(\"Actual Prices (in lakhs)\")\n",
    "plt.ylabel(\"Predicted Prices (in lakhs)\")\n",
    "plt.show()"
   ]
  },
  {
   "cell_type": "markdown",
   "id": "d0c1a7e4",
   "metadata": {},
   "source": [
    "# AdaBoost Regressor Model"
   ]
  },
  {
   "cell_type": "code",
   "execution_count": 988,
   "id": "250b6aa9",
   "metadata": {},
   "outputs": [],
   "source": [
    "adaboost_pipeline = Pipeline(steps=[\n",
    "    ('preprocessor', preprocessor),\n",
    "    ('regressor', AdaBoostRegressor(n_estimators=20, random_state=42))\n",
    "])"
   ]
  },
  {
   "cell_type": "markdown",
   "id": "89b2432c",
   "metadata": {},
   "source": [
    "### Cross Validation - Adaboost regressor"
   ]
  },
  {
   "cell_type": "code",
   "execution_count": 989,
   "id": "b286d871",
   "metadata": {
    "scrolled": true
   },
   "outputs": [
    {
     "name": "stdout",
     "output_type": "stream",
     "text": [
      "Cross-validation R2 scores for AdaBoost Regressor: [0.73832036 0.70322997 0.74880991 0.71067576 0.6974138 ]\n",
      "Mean CV R2 Score for AdaBoost Regressor: 0.7196899602004574\n"
     ]
    }
   ],
   "source": [
    "adaboost_cv_scores = cross_val_score(adaboost_pipeline, X, y, cv=5, scoring='r2')\n",
    "print(f\"Cross-validation R2 scores for AdaBoost Regressor: {adaboost_cv_scores}\")\n",
    "print(f\"Mean CV R2 Score for AdaBoost Regressor: {adaboost_cv_scores.mean()}\")"
   ]
  },
  {
   "cell_type": "code",
   "execution_count": 990,
   "id": "ccaaaa40",
   "metadata": {},
   "outputs": [
    {
     "name": "stdout",
     "output_type": "stream",
     "text": [
      "Validation R2 Score for AdaBoost Regressor: 0.7228981707773915\n"
     ]
    }
   ],
   "source": [
    "# Fitting the AdaBoost Regressor model\n",
    "adaboost_pipeline.fit(X_train, y_train)\n",
    "\n",
    "adaboost_y_pred = adaboost_pipeline.predict(X_test)\n",
    "adaboost_r2 = r2_score(y_test, adaboost_y_pred)\n",
    "print(f\"Validation R2 Score for AdaBoost Regressor: {adaboost_r2}\")"
   ]
  },
  {
   "cell_type": "markdown",
   "id": "d1bfd973",
   "metadata": {},
   "source": [
    "### Hyper Parameter Tuning"
   ]
  },
  {
   "cell_type": "code",
   "execution_count": 991,
   "id": "cc50eecd",
   "metadata": {},
   "outputs": [
    {
     "name": "stdout",
     "output_type": "stream",
     "text": [
      "Best Parameters for AdaBoost: {'regressor__learning_rate': 0.5, 'regressor__n_estimators': 30}\n",
      "Best R2 Score for AdaBoost: 0.7091815940029222\n",
      "Validation R2 Score for the Best AdaBoost Regressor: 0.7352657789669336\n"
     ]
    }
   ],
   "source": [
    "param_grid_adaboost = {\n",
    "    'regressor__n_estimators': [10, 20, 30],\n",
    "    'regressor__learning_rate': [0.3, 0.4, 0.5]\n",
    "}\n",
    "\n",
    "grid_search_adaboost = GridSearchCV(adaboost_pipeline, param_grid_adaboost, cv=5, scoring='r2', n_jobs=-1)\n",
    "\n",
    "# Fitting the model on the training data with hyperparameter tuning\n",
    "grid_search_adaboost.fit(X_train, y_train)\n",
    "\n",
    "\n",
    "#best parameters using hyper tuning\n",
    "print(\"Best Parameters for AdaBoost:\", grid_search_adaboost.best_params_)\n",
    "print(\"Best R2 Score for AdaBoost:\", grid_search_adaboost.best_score_)\n",
    "\n",
    "#best model\n",
    "best_adaboost_model = grid_search_adaboost.best_estimator_\n",
    "\n",
    "#Evaluation\n",
    "y_pred_best_adaboost = best_adaboost_model.predict(X_test)\n",
    "r2_best_adaboost = r2_score(y_test, y_pred_best_adaboost)\n",
    "print(f\"Validation R2 Score for the Best AdaBoost Regressor: {r2_best_adaboost}\")"
   ]
  },
  {
   "cell_type": "markdown",
   "id": "71ec4999",
   "metadata": {},
   "source": [
    "### Actual vs Predicted Value Plot - Adaboost"
   ]
  },
  {
   "cell_type": "code",
   "execution_count": 992,
   "id": "8c9b1cec",
   "metadata": {},
   "outputs": [
    {
     "data": {
      "image/png": "[encoded data removed]",
      "text/plain": [
       "<Figure size 720x432 with 1 Axes>"
      ]
     },
     "metadata": {
      "needs_background": "light"
     },
     "output_type": "display_data"
    }
   ],
   "source": [
    "plt.figure(figsize=(10, 6))\n",
    "plt.scatter(y_test, y_pred_best_adaboost)\n",
    "plt.plot([min(y_test), max(y_test)], [min(y_test), max(y_test)], '--', color='black')\n",
    "plt.title(\"Actual vs Predicted Prices - Adaboost Regressor\")\n",
    "plt.xlabel(\"Actual Prices (in lakhs)\")\n",
    "plt.ylabel(\"Predicted Prices (in lakhs)\")\n",
    "plt.show()"
   ]
  },
  {
   "cell_type": "markdown",
   "id": "33de99aa",
   "metadata": {},
   "source": [
    "# Gradient Boosting Regressor - Best Performing Algorithm"
   ]
  },
  {
   "cell_type": "code",
   "execution_count": 993,
   "id": "dd2a7269",
   "metadata": {},
   "outputs": [],
   "source": [
    "gradient_boosting_pipeline = Pipeline(steps=[\n",
    "    ('preprocessor', preprocessor),\n",
    "    ('regressor', GradientBoostingRegressor(n_estimators=100, random_state=42))\n",
    "])"
   ]
  },
  {
   "cell_type": "markdown",
   "id": "2979a2e2",
   "metadata": {},
   "source": [
    "### Cross Validation - Gradient Boosting"
   ]
  },
  {
   "cell_type": "code",
   "execution_count": 994,
   "id": "1a9bed67",
   "metadata": {},
   "outputs": [
    {
     "name": "stdout",
     "output_type": "stream",
     "text": [
      "Cross-validation R2 scores for GradientBoosting Regressor: [0.84913312 0.86135394 0.85907717 0.87582002 0.82122524]\n",
      "Mean CV R2 Score for GradientBoosting Regressor: 0.8533218967531884\n"
     ]
    }
   ],
   "source": [
    "gradient_boosting_cv_scores = cross_val_score(gradient_boosting_pipeline, X, y, cv=5, scoring='r2')\n",
    "print(f\"Cross-validation R2 scores for GradientBoosting Regressor: {gradient_boosting_cv_scores}\")\n",
    "print(f\"Mean CV R2 Score for GradientBoosting Regressor: {gradient_boosting_cv_scores.mean()}\")"
   ]
  },
  {
   "cell_type": "markdown",
   "id": "f82550f1",
   "metadata": {},
   "source": [
    "### Fitting and Evaluation - Gradient Boosting"
   ]
  },
  {
   "cell_type": "code",
   "execution_count": 995,
   "id": "ce030bfe",
   "metadata": {},
   "outputs": [
    {
     "name": "stdout",
     "output_type": "stream",
     "text": [
      "R2 Score for GradientBoosting Regressor: 0.8837759660317674\n"
     ]
    }
   ],
   "source": [
    "gradient_boosting_pipeline.fit(X_train, y_train)\n",
    "\n",
    "gradient_boosting_y_pred = gradient_boosting_pipeline.predict(X_test)\n",
    "gradient_boosting_r2 = r2_score(y_test, gradient_boosting_y_pred)\n",
    "print(f\"R2 Score for GradientBoosting Regressor: {gradient_boosting_r2}\")"
   ]
  },
  {
   "cell_type": "markdown",
   "id": "f2feb74b",
   "metadata": {},
   "source": [
    "### Hyper Parameter Tuning"
   ]
  },
  {
   "cell_type": "code",
   "execution_count": 1004,
   "id": "9dca88b3",
   "metadata": {},
   "outputs": [
    {
     "name": "stdout",
     "output_type": "stream",
     "text": [
      "Best Parameters: {'regressor__learning_rate': 0.1, 'regressor__max_depth': 5, 'regressor__n_estimators': 700}\n",
      "Best R2 Score: 0.8795503856129508\n",
      "Validation R2 Score for the Best GradientBoosting Regressor: 0.9121905688406888\n"
     ]
    }
   ],
   "source": [
    "# Defining the parameter grid to search\n",
    "param_grid = {\n",
    "    'regressor__n_estimators': [500, 600, 700],\n",
    "    'regressor__learning_rate': [0.05, 0.1, 0.2],\n",
    "    'regressor__max_depth': [4,5,6]\n",
    "}\n",
    "\n",
    "grid_search = GridSearchCV(gradient_boosting_pipeline, param_grid, cv=5, scoring='r2', n_jobs=-1)\n",
    "\n",
    "grid_search.fit(X_train, y_train)\n",
    "\n",
    "print(\"Best Parameters:\", grid_search.best_params_)\n",
    "print(\"Best R2 Score:\", grid_search.best_score_)\n",
    "\n",
    "best_gradient_boosting_model = grid_search.best_estimator_\n",
    "\n",
    "y_pred_best_model = best_gradient_boosting_model.predict(X_test)\n",
    "r2_best_model = r2_score(y_test, y_pred_best_model)\n",
    "print(f\"Validation R2 Score for the Best GradientBoosting Regressor: {r2_best_model}\")\n"
   ]
  },
  {
   "cell_type": "markdown",
   "id": "bf26bb72",
   "metadata": {},
   "source": [
    "### Actual vs Predicted - Gradient Boosting "
   ]
  },
  {
   "cell_type": "code",
   "execution_count": 997,
   "id": "b5eb4d84",
   "metadata": {},
   "outputs": [
    {
     "data": {
      "image/png": "[encoded data removed]",
      "text/plain": [
       "<Figure size 864x576 with 1 Axes>"
      ]
     },
     "metadata": {
      "needs_background": "light"
     },
     "output_type": "display_data"
    }
   ],
   "source": [
    "plt.figure(figsize=(12, 8))\n",
    "plt.scatter(y_test, y_pred_best_model)\n",
    "plt.plot([min(y_test), max(y_test)], [min(y_test), max(y_test)], '--', color='black')\n",
    "plt.title(\"Actual vs Predicted Prices - Gradient Boosting Regressor\")\n",
    "plt.xlabel(\"Actual Prices (in lakhs)\")\n",
    "plt.ylabel(\"Predicted Prices (in lakhs)\")\n",
    "plt.show()"
   ]
  },
  {
   "cell_type": "markdown",
   "id": "1479f13d",
   "metadata": {},
   "source": [
    "### Saving Test Data Predictions in Text File"
   ]
  },
  {
   "cell_type": "code",
   "execution_count": 998,
   "id": "14878b23",
   "metadata": {},
   "outputs": [
    {
     "name": "stdout",
     "output_type": "stream",
     "text": [
      "Predictions saved to predicted_prices.txt\n"
     ]
    }
   ],
   "source": [
    "# Loading the test data\n",
    "test_data = pd.read_csv(\"test_data.csv\")\n",
    "\n",
    "# Clean the 'Mileage', 'Engine', and 'Power' columns in test data\n",
    "test_data['Mileage'] = test_data['Mileage'].apply(extract_numerical_from_string)\n",
    "test_data['Engine'] = test_data['Engine'].apply(extract_numerical_from_string)\n",
    "test_data['Power'] = test_data['Power'].apply(extract_numerical_from_string)\n",
    "\n",
    "# Make predictions on the test set\n",
    "test_predictions = pipeline.predict(test_data)\n",
    "\n",
    "# Save predictions to a text file\n",
    "with open(\"predicted_prices.txt\", \"w\") as file:\n",
    "    for prediction in test_predictions:\n",
    "        file.write(f\"{prediction:.2f}\\n\")\n",
    "\n",
    "print(\"Predictions saved to predicted_prices.txt\")"
   ]
  },
  {
   "cell_type": "markdown",
   "id": "cf66e1e3",
   "metadata": {},
   "source": [
    "# K Nearest Neighbour Regressor"
   ]
  },
  {
   "cell_type": "code",
   "execution_count": 999,
   "id": "c3ec62e2",
   "metadata": {},
   "outputs": [],
   "source": [
    "knn_pipeline = Pipeline(steps=[\n",
    "    ('preprocessor', preprocessor),\n",
    "    ('regressor', KNeighborsRegressor())])"
   ]
  },
  {
   "cell_type": "markdown",
   "id": "3f529de3",
   "metadata": {},
   "source": [
    "### Cross Validation "
   ]
  },
  {
   "cell_type": "code",
   "execution_count": 1000,
   "id": "dfb4ab3d",
   "metadata": {},
   "outputs": [
    {
     "name": "stdout",
     "output_type": "stream",
     "text": [
      "Cross-validation R2 scores for KNN: [0.8312893  0.80958353 0.8498302  0.85969441 0.79317954]\n",
      "Mean CV R2 Score for KNN: 0.8287153953053616\n"
     ]
    }
   ],
   "source": [
    "knn_cv_scores = cross_val_score(knn_pipeline, X, y, cv=5, scoring='r2')\n",
    "print(f\"Cross-validation R2 scores for KNN: {knn_cv_scores}\")\n",
    "print(f\"Mean CV R2 Score for KNN: {knn_cv_scores.mean()}\")"
   ]
  },
  {
   "cell_type": "markdown",
   "id": "3ae32e50",
   "metadata": {},
   "source": [
    "### Model Fitting and Evaluation"
   ]
  },
  {
   "cell_type": "code",
   "execution_count": 1001,
   "id": "4626f5e4",
   "metadata": {
    "scrolled": true
   },
   "outputs": [
    {
     "name": "stdout",
     "output_type": "stream",
     "text": [
      "R2 Score for KNN: 0.8265435116209041\n"
     ]
    }
   ],
   "source": [
    "knn_pipeline.fit(X_train, y_train)\n",
    "\n",
    "knn_y_pred = knn_pipeline.predict(X_test)\n",
    "knn_r2 = r2_score(y_test, knn_y_pred)\n",
    "print(f\"R2 Score for KNN: {knn_r2}\")"
   ]
  },
  {
   "cell_type": "markdown",
   "id": "fb501cee",
   "metadata": {},
   "source": [
    "### Hyper Parameter Tuning - KNN"
   ]
  },
  {
   "cell_type": "code",
   "execution_count": 1002,
   "id": "b4236725",
   "metadata": {},
   "outputs": [
    {
     "name": "stdout",
     "output_type": "stream",
     "text": [
      "Best Parameters for KNN: {'regressor__n_neighbors': 6}\n",
      "Validation R2 Score for Best KNN Model: 0.8184552421339526\n"
     ]
    }
   ],
   "source": [
    "param_grid = {\n",
    "    'regressor__n_neighbors': [2, 3, 4, 5, 6, 7, 8,9, 10]\n",
    "}\n",
    "\n",
    "# Initiased the GridSearchCV object for KNN\n",
    "knn_grid_search = GridSearchCV(knn_pipeline, param_grid, cv=5, scoring='r2')\n",
    "\n",
    "# Fitting the GridSearchCV object on the training data\n",
    "knn_grid_search.fit(X_train, y_train)\n",
    "\n",
    "# best parameters found by GridSearchCV\n",
    "print(\"Best Parameters for KNN:\", knn_grid_search.best_params_)\n",
    "\n",
    "# Getting the best KNN model from GridSearchCV\n",
    "best_knn_model = knn_grid_search.best_estimator_\n",
    "\n",
    "# Evaluating the best KNN model on the validation set\n",
    "best_knn_y_pred = best_knn_model.predict(X_test)\n",
    "best_knn_r2 = r2_score(y_test, best_knn_y_pred)\n",
    "print(f\"Validation R2 Score for Best KNN Model: {best_knn_r2}\")"
   ]
  },
  {
   "cell_type": "markdown",
   "id": "471169fc",
   "metadata": {},
   "source": [
    "### Actual vs Predicted - K Nearest Regressor"
   ]
  },
  {
   "cell_type": "code",
   "execution_count": 1003,
   "id": "893c537f",
   "metadata": {},
   "outputs": [
    {
     "data": {
      "image/png": "[encoded data removed]",
      "text/plain": [
       "<Figure size 720x432 with 1 Axes>"
      ]
     },
     "metadata": {
      "needs_background": "light"
     },
     "output_type": "display_data"
    }
   ],
   "source": [
    "plt.figure(figsize=(10, 6))\n",
    "plt.scatter(y_test, best_knn_y_pred)\n",
    "plt.plot([min(y_test), max(y_test)], [min(y_test), max(y_test)], '--', color='black')\n",
    "plt.title(\"Actual vs Predicted Prices - KNN\")\n",
    "plt.xlabel(\"Actual Prices (in lakhs)\")\n",
    "plt.ylabel(\"Predicted Prices (in lakhs)\")\n",
    "plt.show()"
   ]
  },
  {
   "cell_type": "code",
   "execution_count": null,
   "id": "154c1fe1",
   "metadata": {},
   "outputs": [],
   "source": []
  },
  {
   "cell_type": "code",
   "execution_count": null,
   "id": "34880c79",
   "metadata": {},
   "outputs": [],
   "source": []
  },
  {
   "cell_type": "code",
   "execution_count": null,
   "id": "206ac284",
   "metadata": {},
   "outputs": [],
   "source": []
  },
  {
   "cell_type": "code",
   "execution_count": null,
   "id": "df162b58",
   "metadata": {},
   "outputs": [],
   "source": []
  },
  {
   "cell_type": "code",
   "execution_count": null,
   "id": "3ba10f17",
   "metadata": {},
   "outputs": [],
   "source": []
  },
  {
   "cell_type": "code",
   "execution_count": null,
   "id": "3e20e445",
   "metadata": {},
   "outputs": [],
   "source": []
  },
  {
   "cell_type": "code",
   "execution_count": null,
   "id": "16ecf53c",
   "metadata": {},
   "outputs": [],
   "source": []
  },
  {
   "cell_type": "code",
   "execution_count": null,
   "id": "e289dadc",
   "metadata": {},
   "outputs": [],
   "source": []
  },
  {
   "cell_type": "code",
   "execution_count": null,
   "id": "fd6310c7",
   "metadata": {},
   "outputs": [],
   "source": []
  }
 ],
 "metadata": {
  "kernelspec": {
   "display_name": "Python 3 (ipykernel)",
   "language": "python",
   "name": "python3"
  },
  "language_info": {
   "codemirror_mode": {
    "name": "ipython",
    "version": 3
   },
   "file_extension": ".py",
   "mimetype": "text/x-python",
   "name": "python",
   "nbconvert_exporter": "python",
   "pygments_lexer": "ipython3",
   "version": "3.9.12"
  }
 },
 "nbformat": 4,
 "nbformat_minor": 5
}
